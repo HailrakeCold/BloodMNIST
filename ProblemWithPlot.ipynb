{
 "cells": [
  {
   "cell_type": "code",
   "execution_count": 1,
   "id": "eafe6df5",
   "metadata": {},
   "outputs": [],
   "source": [
    "from tqdm import tqdm\n",
    "import numpy as np\n",
    "import torch\n",
    "import torch.nn as nn\n",
    "import torch.optim as optim\n",
    "import torch.utils.data as data\n",
    "import torchvision.transforms as transforms\n",
    "import torch.nn.functional as F\n",
    "import medmnist\n",
    "from sklearn.metrics import accuracy_score, roc_auc_score\n",
    "import matplotlib.pyplot as plt"
   ]
  },
  {
   "cell_type": "code",
   "execution_count": 2,
   "id": "f1a5e643",
   "metadata": {},
   "outputs": [],
   "source": [
    "data_flag = 'bloodmnist'\n",
    "\n",
    "download = True\n",
    "NUM_EPOCHS = 15\n",
    "BATCH_SIZE = 64\n",
    "lr = 0.001"
   ]
  },
  {
   "cell_type": "code",
   "execution_count": 3,
   "id": "54629068",
   "metadata": {},
   "outputs": [],
   "source": [
    "info = medmnist.INFO[data_flag]\n",
    "task = info['task']\n",
    "n_channels = info['n_channels']\n",
    "n_classes = len(info['label'])\n",
    "\n",
    "DataClass = getattr(medmnist, info['python_class'])"
   ]
  },
  {
   "cell_type": "code",
   "execution_count": 4,
   "id": "e63c08ec",
   "metadata": {},
   "outputs": [],
   "source": [
    "# preprocessing\n",
    "data_transform = transforms.Compose([\n",
    "    transforms.ToTensor(),\n",
    "    transforms.Normalize(mean=[.5], std=[.5])\n",
    "])"
   ]
  },
  {
   "cell_type": "code",
   "execution_count": 5,
   "id": "c0cf355a",
   "metadata": {},
   "outputs": [
    {
     "name": "stdout",
     "output_type": "stream",
     "text": [
      "Using downloaded and verified file: C:\\Users\\Makhmudkozha\\.medmnist\\bloodmnist.npz\n",
      "Using downloaded and verified file: C:\\Users\\Makhmudkozha\\.medmnist\\bloodmnist.npz\n"
     ]
    }
   ],
   "source": [
    "# load the data\n",
    "train_dataset = DataClass(split='train', transform=data_transform, download=download)\n",
    "test_dataset = DataClass(split='test', transform=data_transform, download=download)\n"
   ]
  },
  {
   "cell_type": "code",
   "execution_count": 6,
   "id": "0dc0664f",
   "metadata": {},
   "outputs": [],
   "source": [
    "# encapsulate data into dataloader form\n",
    "train_loader = data.DataLoader(dataset=train_dataset, batch_size=BATCH_SIZE, shuffle=True)\n",
    "train_loader_at_eval = data.DataLoader(dataset=train_dataset, batch_size=2 * BATCH_SIZE, shuffle=False)\n",
    "test_loader = data.DataLoader(dataset=test_dataset, batch_size=2 * BATCH_SIZE, shuffle=False)"
   ]
  },
  {
   "cell_type": "code",
   "execution_count": 7,
   "id": "83fd0558",
   "metadata": {},
   "outputs": [],
   "source": [
    "class Block(nn.Module):\n",
    "    def __init__(self, in_channels, out_channels, kernel_size, padding=0):\n",
    "        super(Block, self).__init__()\n",
    "        self.block = nn.Sequential(\n",
    "            nn.Conv2d(in_channels, out_channels, kernel_size=kernel_size, padding=padding),\n",
    "            nn.BatchNorm2d(out_channels),\n",
    "            nn.ReLU()\n",
    "        )\n",
    "\n",
    "    def forward(self, x):\n",
    "        return self.block(x)\n",
    "\n",
    "class Net(nn.Module):\n",
    "    def __init__(self, in_channels, num_classes):\n",
    "        super(Net, self).__init__()\n",
    "\n",
    "        self.layer1 = Block(in_channels, 16, kernel_size=3)\n",
    "        self.layer2 = nn.Sequential(\n",
    "            Block(16, 16, kernel_size=3),\n",
    "            nn.MaxPool2d(kernel_size=2, stride=2)\n",
    "        )\n",
    "        self.layer3 = Block(16, 64, kernel_size=3)\n",
    "        self.layer4 = Block(64, 64, kernel_size=3)\n",
    "        self.layer5 = nn.Sequential(\n",
    "            Block(64, 64, kernel_size=3, padding=1),\n",
    "            nn.MaxPool2d(kernel_size=2, stride=2)\n",
    "        )\n",
    "\n",
    "        self.fc = nn.Sequential(\n",
    "            nn.Linear(64 * 4 * 4, 128),\n",
    "            nn.ReLU(),\n",
    "            nn.Linear(128, 128),\n",
    "            nn.ReLU(),\n",
    "            nn.Linear(128, num_classes)\n",
    "        )\n",
    "\n",
    "        # Use Softmax for multi-class classification\n",
    "        if task != \"multi-label, binary-class\":\n",
    "            self.fc.add_module(\"softmax\", nn.Softmax(dim=-1))\n",
    "\n",
    "    def _forward_features(self, x):\n",
    "        x = self.layer1(x)\n",
    "        x = self.layer2(x)\n",
    "        x = self.layer3(x)\n",
    "        x = self.layer4(x)\n",
    "        x = self.layer5(x)\n",
    "        return x\n",
    "\n",
    "    def forward(self, x):\n",
    "        x = self._forward_features(x)\n",
    "        x = x.view(x.size(0), -1)\n",
    "        x = self.fc(x)\n",
    "        return x\n",
    "\n",
    "model = Net(in_channels=n_channels, num_classes=n_classes)\n",
    "\n",
    "# define loss function and optimizer\n",
    "if task == \"multi-label, binary-class\":\n",
    "    criterion = nn.BCEWithLogitsLoss()\n",
    "else:\n",
    "    criterion = nn.CrossEntropyLoss()\n",
    "\n",
    "optimizer = optim.SGD(model.parameters(), lr=lr, momentum=0.9)\n"
   ]
  },
  {
   "cell_type": "code",
   "execution_count": 8,
   "id": "ec322e87",
   "metadata": {},
   "outputs": [
    {
     "name": "stdout",
     "output_type": "stream",
     "text": [
      "Training Epoch [1/15], Loss: 2.0616, Accuracy: 19.16%\n",
      "Training Epoch [2/15], Loss: 1.9724, Accuracy: 26.87%\n",
      "Training Epoch [3/15], Loss: 1.7774, Accuracy: 49.73%\n",
      "Training Epoch [4/15], Loss: 1.6960, Accuracy: 58.77%\n",
      "Training Epoch [5/15], Loss: 1.6357, Accuracy: 66.08%\n",
      "Training Epoch [6/15], Loss: 1.5907, Accuracy: 70.49%\n",
      "Training Epoch [7/15], Loss: 1.5701, Accuracy: 71.54%\n",
      "Training Epoch [8/15], Loss: 1.5611, Accuracy: 71.95%\n",
      "Training Epoch [9/15], Loss: 1.5507, Accuracy: 72.82%\n",
      "Training Epoch [10/15], Loss: 1.5254, Accuracy: 77.49%\n",
      "Training Epoch [11/15], Loss: 1.5059, Accuracy: 78.72%\n",
      "Training Epoch [12/15], Loss: 1.4945, Accuracy: 79.56%\n",
      "Training Epoch [13/15], Loss: 1.4867, Accuracy: 79.92%\n",
      "Training Epoch [14/15], Loss: 1.4798, Accuracy: 80.37%\n",
      "Training Epoch [15/15], Loss: 1.4747, Accuracy: 80.87%\n",
      "Test Accuracy after Epoch 15: 80.12%\n"
     ]
    }
   ],
   "source": [
    "# Lists to store training and test accuracies\n",
    "train_accuracies = []\n",
    "test_accuracies = []\n",
    "\n",
    "# Training loop\n",
    "for epoch in range(NUM_EPOCHS):\n",
    "    train_loss = 0.0\n",
    "    train_correct = 0\n",
    "    train_total = 0\n",
    "\n",
    "    model.train()\n",
    "    for i, (inputs, targets) in enumerate(train_loader):\n",
    "        # Forward pass\n",
    "        outputs = model(inputs)\n",
    "\n",
    "        # Compute loss\n",
    "        if task == 'multi-label, binary-class':\n",
    "            targets = targets.to(torch.float32)\n",
    "        else:\n",
    "            targets = targets.squeeze().long()\n",
    "\n",
    "        loss = criterion(outputs, targets)\n",
    "\n",
    "        # Backward pass and optimization\n",
    "        optimizer.zero_grad()\n",
    "        loss.backward()\n",
    "        optimizer.step()\n",
    "\n",
    "        # Update training statistics\n",
    "        train_loss += loss.item()\n",
    "\n",
    "        if task != 'multi-label, binary-class':\n",
    "            _, predicted = torch.max(outputs.data, 1)\n",
    "            train_total += targets.size(0)\n",
    "            train_correct += (predicted == targets).sum().item()\n",
    "        else:\n",
    "            predicted = (torch.sigmoid(outputs) > 0.5).to(torch.float32)\n",
    "            train_total += targets.size(0) * targets.size(1)\n",
    "            train_correct += accuracy_score(targets.cpu().numpy(), predicted.cpu().numpy(), average='micro') * targets.size(0)\n",
    "\n",
    "    # Calculate training accuracy after each epoch\n",
    "    train_accuracy = 100 * train_correct / train_total\n",
    "    train_accuracies.append(train_accuracy)\n",
    "\n",
    "    # Print epoch summary\n",
    "    print(f'Training Epoch [{epoch + 1}/{NUM_EPOCHS}], Loss: {train_loss / len(train_loader):.4f}, '\n",
    "          f'Accuracy: {train_accuracy:.2f}%')\n",
    "    \n",
    "from sklearn.metrics import accuracy_score, roc_auc_score   \n",
    "# Evaluation on the test set\n",
    "test_correct = 0\n",
    "test_total = 0\n",
    "model.eval()\n",
    "with torch.no_grad():\n",
    "    for inputs, targets in test_loader:\n",
    "        outputs = model(inputs)\n",
    "\n",
    "        if task == 'multi-label, binary-class':\n",
    "            targets = targets.to(torch.float32)\n",
    "            outputs = outputs.sigmoid()\n",
    "        else:\n",
    "            targets = targets.squeeze().long()\n",
    "            outputs = outputs.softmax(dim=-1)\n",
    "\n",
    "            _, predicted = torch.max(outputs.data, 1)\n",
    "            test_total += targets.size(0)\n",
    "            test_correct += (predicted == targets).sum().item()\n",
    "\n",
    "    # Calculate test accuracy after each epoch\n",
    "    test_accuracy = 100 * test_correct / test_total\n",
    "    test_accuracies.append(test_accuracy)\n",
    "\n",
    "# Print test accuracy\n",
    "print(f'Test Accuracy after Epoch {epoch + 1}: {test_accuracy:.2f}%')\n",
    "\n"
   ]
  },
  {
   "cell_type": "code",
   "execution_count": 10,
   "id": "3a677924",
   "metadata": {},
   "outputs": [
    {
     "data": {
      "image/png": "[encoded data removed]",
      "text/plain": [
       "<Figure size 640x480 with 1 Axes>"
      ]
     },
     "metadata": {},
     "output_type": "display_data"
    }
   ],
   "source": [
    "# Plotting\n",
    "epochs = range(1, len(train_accuracies) + 1)\n",
    "\n",
    "# Make sure test_accuracies has the same length as epochs\n",
    "test_accuracies = test_accuracies[:len(train_accuracies)]\n",
    "\n",
    "plt.plot(epochs, train_accuracies, label='Train Accuracy')\n",
    "#plt.plot(epochs, test_accuracies, label='Test Accuracy')\n",
    "plt.xlabel('Epoch')\n",
    "plt.ylabel('Accuracy (%)')\n",
    "plt.title('Train Accuracy Over Epochs')\n",
    "plt.legend()\n",
    "plt.show()"
   ]
  },
  {
   "cell_type": "code",
   "execution_count": null,
   "id": "43a821f3",
   "metadata": {},
   "outputs": [],
   "source": []
  },
  {
   "cell_type": "code",
   "execution_count": null,
   "id": "c928d173",
   "metadata": {},
   "outputs": [],
   "source": []
  },
  {
   "cell_type": "code",
   "execution_count": null,
   "id": "db0e95e7",
   "metadata": {},
   "outputs": [],
   "source": []
  }
 ],
 "metadata": {
  "kernelspec": {
   "display_name": "Python 3 (ipykernel)",
   "language": "python",
   "name": "python3"
  },
  "language_info": {
   "codemirror_mode": {
    "name": "ipython",
    "version": 3
   },
   "file_extension": ".py",
   "mimetype": "text/x-python",
   "name": "python",
   "nbconvert_exporter": "python",
   "pygments_lexer": "ipython3",
   "version": "3.10.9"
  }
 },
 "nbformat": 4,
 "nbformat_minor": 5
}
